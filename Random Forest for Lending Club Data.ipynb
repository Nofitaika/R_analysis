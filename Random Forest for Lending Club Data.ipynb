{
 "cells": [
  {
   "cell_type": "markdown",
   "metadata": {},
   "source": [
    "# EXAMPLE : RANDOM FOREST FOR GRADE CLASSIFICATION\n",
    "*by: nofitaika*\n",
    "\n",
    "Analisis ini bertujuan untuk mengklasifikasikan pemilihan loan grade berdasarkan beberapa faktor yang mempengaruhi. Data yang digunakan adalah data [Lending Club](https://www.lendingclub.com/info/download-data.action) tahun 2015. Klasifikasi ini dapat digunakan sebagai pelengkap visualisasi BI untuk menentukan strategi bisnis agar lebih tepat sasaran."
   ]
  },
  {
   "cell_type": "markdown",
   "metadata": {},
   "source": [
    "## Persiapan Data\n",
    "Lending_club_loan_data yang didownload langsung dari websitenya adalah data asli dengan 144 variabel dan beberapa permasalahan data. Oleh karena itu perlu dilakukan persiapan untuk mendapatkan data yang bersih sesuai dengan kebutuhan dan siap dianalisis. Beberapa langkah dalam persiapan data ini adalah sebagai berikut, (sebelumnya, berikut ini ditampilkan preview data yang digunakan)."
   ]
  },
  {
   "cell_type": "code",
   "execution_count": 1,
   "metadata": {
    "scrolled": true
   },
   "outputs": [
    {
     "data": {
      "text/html": [
       "<table>\n",
       "<thead><tr><th scope=col>member_id</th><th scope=col>loan_amnt</th><th scope=col>funded_amnt</th><th scope=col>funded_amnt_inv</th><th scope=col>term</th><th scope=col>int_rate</th><th scope=col>installment</th><th scope=col>grade</th><th scope=col>sub_grade</th><th scope=col>emp_title</th><th scope=col>...</th><th scope=col>hardship_payoff_balance_amount</th><th scope=col>hardship_last_payment_amount</th><th scope=col>disbursement_method</th><th scope=col>debt_settlement_flag</th><th scope=col>debt_settlement_flag_date</th><th scope=col>settlement_status</th><th scope=col>settlement_date</th><th scope=col>settlement_amount</th><th scope=col>settlement_percentage</th><th scope=col>settlement_term</th></tr></thead>\n",
       "<tbody>\n",
       "\t<tr><td>NA                    </td><td>24700                 </td><td>24700                 </td><td>24700                 </td><td>36 months             </td><td>11.99                 </td><td>820.28                </td><td>C                     </td><td>C1                    </td><td>Engineer              </td><td>...                   </td><td>NA                    </td><td>NA                    </td><td>Cash                  </td><td>N                     </td><td>NA                    </td><td>NA                    </td><td>NA                    </td><td>  NA                  </td><td>NA                    </td><td>NA                    </td></tr>\n",
       "\t<tr><td>NA                    </td><td>35000                 </td><td>35000                 </td><td>35000                 </td><td>60 months             </td><td>12.88                 </td><td>794.21                </td><td>C                     </td><td>C2                    </td><td>Lieutenant            </td><td>...                   </td><td>NA                    </td><td>NA                    </td><td>Cash                  </td><td>N                     </td><td>NA                    </td><td>NA                    </td><td>NA                    </td><td>  NA                  </td><td>NA                    </td><td>NA                    </td></tr>\n",
       "\t<tr><td>NA                    </td><td>20000                 </td><td>20000                 </td><td>20000                 </td><td>60 months             </td><td>13.99                 </td><td>465.27                </td><td>C                     </td><td>C4                    </td><td>Facilities Coordinator</td><td>...                   </td><td>NA                    </td><td>NA                    </td><td>Cash                  </td><td>Y                     </td><td>Nov-2017              </td><td>COMPLETE              </td><td>Sep-2017              </td><td>9915                  </td><td>55                    </td><td> 1                    </td></tr>\n",
       "\t<tr><td>NA                    </td><td>20000                 </td><td>20000                 </td><td>20000                 </td><td>36 months             </td><td>12.88                 </td><td>672.73                </td><td>C                     </td><td>C2                    </td><td>President             </td><td>...                   </td><td>NA                    </td><td>NA                    </td><td>Cash                  </td><td>N                     </td><td>NA                    </td><td>NA                    </td><td>NA                    </td><td>  NA                  </td><td>NA                    </td><td>NA                    </td></tr>\n",
       "\t<tr><td>NA                    </td><td>14025                 </td><td>14025                 </td><td>14025                 </td><td>60 months             </td><td>18.49                 </td><td>359.90                </td><td>D                     </td><td>D5                    </td><td>accts payable         </td><td>...                   </td><td>NA                    </td><td>NA                    </td><td>Cash                  </td><td>N                     </td><td>NA                    </td><td>NA                    </td><td>NA                    </td><td>  NA                  </td><td>NA                    </td><td>NA                    </td></tr>\n",
       "\t<tr><td>NA                    </td><td>16000                 </td><td>16000                 </td><td>16000                 </td><td>60 months             </td><td> 8.49                 </td><td>328.19                </td><td>B                     </td><td>B1                    </td><td>Supervisor            </td><td>...                   </td><td>NA                    </td><td>NA                    </td><td>Cash                  </td><td>N                     </td><td>NA                    </td><td>NA                    </td><td>NA                    </td><td>  NA                  </td><td>NA                    </td><td>NA                    </td></tr>\n",
       "</tbody>\n",
       "</table>\n"
      ],
      "text/latex": [
       "\\begin{tabular}{r|llllllllllllllllllllllllllllllllllllllllllllllllllllllllllllllllllllllllllllllllllllllllllllllllllllllllllllllllllllllllllllllllllllllllllllllll}\n",
       " member\\_id & loan\\_amnt & funded\\_amnt & funded\\_amnt\\_inv & term & int\\_rate & installment & grade & sub\\_grade & emp\\_title & ... & hardship\\_payoff\\_balance\\_amount & hardship\\_last\\_payment\\_amount & disbursement\\_method & debt\\_settlement\\_flag & debt\\_settlement\\_flag\\_date & settlement\\_status & settlement\\_date & settlement\\_amount & settlement\\_percentage & settlement\\_term\\\\\n",
       "\\hline\n",
       "\t NA                     & 24700                  & 24700                  & 24700                  & 36 months              & 11.99                  & 820.28                 & C                      & C1                     & Engineer               & ...                    & NA                     & NA                     & Cash                   & N                      & NA                     & NA                     & NA                     &   NA                   & NA                     & NA                    \\\\\n",
       "\t NA                     & 35000                  & 35000                  & 35000                  & 60 months              & 12.88                  & 794.21                 & C                      & C2                     & Lieutenant             & ...                    & NA                     & NA                     & Cash                   & N                      & NA                     & NA                     & NA                     &   NA                   & NA                     & NA                    \\\\\n",
       "\t NA                     & 20000                  & 20000                  & 20000                  & 60 months              & 13.99                  & 465.27                 & C                      & C4                     & Facilities Coordinator & ...                    & NA                     & NA                     & Cash                   & Y                      & Nov-2017               & COMPLETE               & Sep-2017               & 9915                   & 55                     &  1                    \\\\\n",
       "\t NA                     & 20000                  & 20000                  & 20000                  & 36 months              & 12.88                  & 672.73                 & C                      & C2                     & President              & ...                    & NA                     & NA                     & Cash                   & N                      & NA                     & NA                     & NA                     &   NA                   & NA                     & NA                    \\\\\n",
       "\t NA                     & 14025                  & 14025                  & 14025                  & 60 months              & 18.49                  & 359.90                 & D                      & D5                     & accts payable          & ...                    & NA                     & NA                     & Cash                   & N                      & NA                     & NA                     & NA                     &   NA                   & NA                     & NA                    \\\\\n",
       "\t NA                     & 16000                  & 16000                  & 16000                  & 60 months              &  8.49                  & 328.19                 & B                      & B1                     & Supervisor             & ...                    & NA                     & NA                     & Cash                   & N                      & NA                     & NA                     & NA                     &   NA                   & NA                     & NA                    \\\\\n",
       "\\end{tabular}\n"
      ],
      "text/markdown": [
       "\n",
       "| member_id | loan_amnt | funded_amnt | funded_amnt_inv | term | int_rate | installment | grade | sub_grade | emp_title | ... | hardship_payoff_balance_amount | hardship_last_payment_amount | disbursement_method | debt_settlement_flag | debt_settlement_flag_date | settlement_status | settlement_date | settlement_amount | settlement_percentage | settlement_term |\n",
       "|---|---|---|---|---|---|---|---|---|---|---|---|---|---|---|---|---|---|---|---|---|\n",
       "| NA                     | 24700                  | 24700                  | 24700                  | 36 months              | 11.99                  | 820.28                 | C                      | C1                     | Engineer               | ...                    | NA                     | NA                     | Cash                   | N                      | NA                     | NA                     | NA                     |   NA                   | NA                     | NA                     |\n",
       "| NA                     | 35000                  | 35000                  | 35000                  | 60 months              | 12.88                  | 794.21                 | C                      | C2                     | Lieutenant             | ...                    | NA                     | NA                     | Cash                   | N                      | NA                     | NA                     | NA                     |   NA                   | NA                     | NA                     |\n",
       "| NA                     | 20000                  | 20000                  | 20000                  | 60 months              | 13.99                  | 465.27                 | C                      | C4                     | Facilities Coordinator | ...                    | NA                     | NA                     | Cash                   | Y                      | Nov-2017               | COMPLETE               | Sep-2017               | 9915                   | 55                     |  1                     |\n",
       "| NA                     | 20000                  | 20000                  | 20000                  | 36 months              | 12.88                  | 672.73                 | C                      | C2                     | President              | ...                    | NA                     | NA                     | Cash                   | N                      | NA                     | NA                     | NA                     |   NA                   | NA                     | NA                     |\n",
       "| NA                     | 14025                  | 14025                  | 14025                  | 60 months              | 18.49                  | 359.90                 | D                      | D5                     | accts payable          | ...                    | NA                     | NA                     | Cash                   | N                      | NA                     | NA                     | NA                     |   NA                   | NA                     | NA                     |\n",
       "| NA                     | 16000                  | 16000                  | 16000                  | 60 months              |  8.49                  | 328.19                 | B                      | B1                     | Supervisor             | ...                    | NA                     | NA                     | Cash                   | N                      | NA                     | NA                     | NA                     |   NA                   | NA                     | NA                     |\n",
       "\n"
      ],
      "text/plain": [
       "  member_id loan_amnt funded_amnt funded_amnt_inv term      int_rate\n",
       "1 NA        24700     24700       24700           36 months 11.99   \n",
       "2 NA        35000     35000       35000           60 months 12.88   \n",
       "3 NA        20000     20000       20000           60 months 13.99   \n",
       "4 NA        20000     20000       20000           36 months 12.88   \n",
       "5 NA        14025     14025       14025           60 months 18.49   \n",
       "6 NA        16000     16000       16000           60 months  8.49   \n",
       "  installment grade sub_grade emp_title              ...\n",
       "1 820.28      C     C1        Engineer               ...\n",
       "2 794.21      C     C2        Lieutenant             ...\n",
       "3 465.27      C     C4        Facilities Coordinator ...\n",
       "4 672.73      C     C2        President              ...\n",
       "5 359.90      D     D5        accts payable          ...\n",
       "6 328.19      B     B1        Supervisor             ...\n",
       "  hardship_payoff_balance_amount hardship_last_payment_amount\n",
       "1 NA                             NA                          \n",
       "2 NA                             NA                          \n",
       "3 NA                             NA                          \n",
       "4 NA                             NA                          \n",
       "5 NA                             NA                          \n",
       "6 NA                             NA                          \n",
       "  disbursement_method debt_settlement_flag debt_settlement_flag_date\n",
       "1 Cash                N                    NA                       \n",
       "2 Cash                N                    NA                       \n",
       "3 Cash                Y                    Nov-2017                 \n",
       "4 Cash                N                    NA                       \n",
       "5 Cash                N                    NA                       \n",
       "6 Cash                N                    NA                       \n",
       "  settlement_status settlement_date settlement_amount settlement_percentage\n",
       "1 NA                NA                NA              NA                   \n",
       "2 NA                NA                NA              NA                   \n",
       "3 COMPLETE          Sep-2017        9915              55                   \n",
       "4 NA                NA                NA              NA                   \n",
       "5 NA                NA                NA              NA                   \n",
       "6 NA                NA                NA              NA                   \n",
       "  settlement_term\n",
       "1 NA             \n",
       "2 NA             \n",
       "3  1             \n",
       "4 NA             \n",
       "5 NA             \n",
       "6 NA             "
      ]
     },
     "metadata": {},
     "output_type": "display_data"
    }
   ],
   "source": [
    "lending_club_loan_data <- readRDS(\"C:/Users/ASUS/Downloads/lending_club_loan_data.rds\")\n",
    "head(lending_club_loan_data)"
   ]
  },
  {
   "cell_type": "markdown",
   "metadata": {},
   "source": [
    "### a. Memilih Variabel yang digunakan\n",
    "Beberapa variabel yang diduga mempengaruhi keputusan peminjam dalam menentukan loan grade adalah pendapatan per tahun(annual_inc), negara asal(addr_state), status kepemilikan rumah(home_ownership), dan tipe pinjaman(application_type). Berikut ini adalah seleksi 5 variabel tersebut ditambah variabel issue_d(tanggal pinjaman) yang akan digunakan untuk seleksi data tahun 2015 (hal ini tidak perlu dilakukan jika pada saat download data sudah sesuai hanya tahun 2015 saja)"
   ]
  },
  {
   "cell_type": "code",
   "execution_count": 2,
   "metadata": {},
   "outputs": [
    {
     "name": "stderr",
     "output_type": "stream",
     "text": [
      "\n",
      "Attaching package: 'dplyr'\n",
      "\n",
      "The following objects are masked from 'package:stats':\n",
      "\n",
      "    filter, lag\n",
      "\n",
      "The following objects are masked from 'package:base':\n",
      "\n",
      "    intersect, setdiff, setequal, union\n",
      "\n"
     ]
    },
    {
     "data": {
      "text/html": [
       "<table>\n",
       "<thead><tr><th scope=col>grade</th><th scope=col>annual_inc</th><th scope=col>home_ownership</th><th scope=col>addr_state</th><th scope=col>application_type</th><th scope=col>issue_d</th></tr></thead>\n",
       "<tbody>\n",
       "\t<tr><td>C         </td><td> 65000    </td><td>MORTGAGE  </td><td>SD        </td><td>Individual</td><td>Dec-2015  </td></tr>\n",
       "\t<tr><td>C         </td><td>106000    </td><td>MORTGAGE  </td><td>AL        </td><td>Individual</td><td>Dec-2015  </td></tr>\n",
       "\t<tr><td>C         </td><td> 70000    </td><td>OWN       </td><td>MD        </td><td>Individual</td><td>Dec-2015  </td></tr>\n",
       "\t<tr><td>C         </td><td>145000    </td><td>MORTGAGE  </td><td>RI        </td><td>Individual</td><td>Dec-2015  </td></tr>\n",
       "\t<tr><td>D         </td><td> 39000    </td><td>MORTGAGE  </td><td>WI        </td><td>Individual</td><td>Dec-2015  </td></tr>\n",
       "\t<tr><td>B         </td><td> 62000    </td><td>MORTGAGE  </td><td>CA        </td><td>Individual</td><td>Dec-2015  </td></tr>\n",
       "</tbody>\n",
       "</table>\n"
      ],
      "text/latex": [
       "\\begin{tabular}{r|llllll}\n",
       " grade & annual\\_inc & home\\_ownership & addr\\_state & application\\_type & issue\\_d\\\\\n",
       "\\hline\n",
       "\t C          &  65000     & MORTGAGE   & SD         & Individual & Dec-2015  \\\\\n",
       "\t C          & 106000     & MORTGAGE   & AL         & Individual & Dec-2015  \\\\\n",
       "\t C          &  70000     & OWN        & MD         & Individual & Dec-2015  \\\\\n",
       "\t C          & 145000     & MORTGAGE   & RI         & Individual & Dec-2015  \\\\\n",
       "\t D          &  39000     & MORTGAGE   & WI         & Individual & Dec-2015  \\\\\n",
       "\t B          &  62000     & MORTGAGE   & CA         & Individual & Dec-2015  \\\\\n",
       "\\end{tabular}\n"
      ],
      "text/markdown": [
       "\n",
       "| grade | annual_inc | home_ownership | addr_state | application_type | issue_d |\n",
       "|---|---|---|---|---|---|\n",
       "| C          |  65000     | MORTGAGE   | SD         | Individual | Dec-2015   |\n",
       "| C          | 106000     | MORTGAGE   | AL         | Individual | Dec-2015   |\n",
       "| C          |  70000     | OWN        | MD         | Individual | Dec-2015   |\n",
       "| C          | 145000     | MORTGAGE   | RI         | Individual | Dec-2015   |\n",
       "| D          |  39000     | MORTGAGE   | WI         | Individual | Dec-2015   |\n",
       "| B          |  62000     | MORTGAGE   | CA         | Individual | Dec-2015   |\n",
       "\n"
      ],
      "text/plain": [
       "  grade annual_inc home_ownership addr_state application_type issue_d \n",
       "1 C      65000     MORTGAGE       SD         Individual       Dec-2015\n",
       "2 C     106000     MORTGAGE       AL         Individual       Dec-2015\n",
       "3 C      70000     OWN            MD         Individual       Dec-2015\n",
       "4 C     145000     MORTGAGE       RI         Individual       Dec-2015\n",
       "5 D      39000     MORTGAGE       WI         Individual       Dec-2015\n",
       "6 B      62000     MORTGAGE       CA         Individual       Dec-2015"
      ]
     },
     "metadata": {},
     "output_type": "display_data"
    }
   ],
   "source": [
    "library(dplyr)\n",
    "\n",
    "#memilih variabel yang digunakan\n",
    "needed_var <- c('grade','annual_inc','home_ownership','addr_state','application_type','issue_d')\n",
    "first_sel<-select(lending_club_loan_data, needed_var)\n",
    "\n",
    "#seleksi data tahun 2015\n",
    "sec_sel <- dplyr::filter(first_sel, grepl('2015', issue_d))\n",
    "head(sec_sel)"
   ]
  },
  {
   "cell_type": "markdown",
   "metadata": {},
   "source": [
    "### b. Mendeteksi Missing Data"
   ]
  },
  {
   "cell_type": "code",
   "execution_count": 3,
   "metadata": {},
   "outputs": [
    {
     "data": {
      "text/html": [
       "0"
      ],
      "text/latex": [
       "0"
      ],
      "text/markdown": [
       "0"
      ],
      "text/plain": [
       "[1] 0"
      ]
     },
     "metadata": {},
     "output_type": "display_data"
    }
   ],
   "source": [
    "sum(is.na(sec_sel))"
   ]
  },
  {
   "cell_type": "markdown",
   "metadata": {},
   "source": [
    "Data yang diseleksi tidak memiliki *missing value*."
   ]
  },
  {
   "cell_type": "markdown",
   "metadata": {},
   "source": [
    "### c. Mendeteksi dan Menangani Outlier\n",
    "Dalam persiapan data ini diperlukan deteksi dan penanganan outlier karena variabel annual_inc yang memiliki type data numeric akan diubah menjadi data kategori, yakni annual_inc dengan nilai lebih dari rata-ratanya dan kurang dari rata-ratanya."
   ]
  },
  {
   "cell_type": "code",
   "execution_count": 4,
   "metadata": {},
   "outputs": [],
   "source": [
    "outlierKD <- function(dt, var) {\n",
    "  var_name <- eval(substitute(var),eval(dt))\n",
    "  tot <- sum(!is.na(var_name))\n",
    "  na1 <- sum(is.na(var_name))\n",
    "  m1 <- mean(var_name, na.rm = T)\n",
    "  par(mfrow=c(2, 2), oma=c(0,0,3,0))\n",
    "  boxplot(var_name, main=\"With outliers\")\n",
    "  hist(var_name, main=\"With outliers\", xlab=NA, ylab=NA)\n",
    "  outlier <- boxplot.stats(var_name)$out\n",
    "  mo <- mean(outlier)\n",
    "  var_name <- ifelse(var_name %in% outlier, NA, var_name)\n",
    "  boxplot(var_name, main=\"Without outliers\")\n",
    "  hist(var_name, main=\"Without outliers\", xlab=NA, ylab=NA)\n",
    "  title(\"Outlier Check\", outer=TRUE)\n",
    "  na2 <- sum(is.na(var_name))\n",
    "  message(\"Outliers identified: \", na2 - na1, \" from \", tot, \" observations\")\n",
    "  message(\"Proportion (%) of outliers: \", (na2 - na1) / tot*100)\n",
    "  message(\"Mean of the outliers: \", mo)\n",
    "  m2 <- mean(var_name, na.rm = T)\n",
    "  message(\"Mean without removing outliers: \", m1)\n",
    "  message(\"Mean if we remove outliers: \", m2)\n",
    "  response <- readline(prompt=\"Do you want to remove outliers and to replace with NA? [yes/no]: \")\n",
    "  if(response == \"y\" | response == \"yes\"){\n",
    "    dt[as.character(substitute(var))] <- invisible(var_name)\n",
    "    assign(as.character(as.list(match.call())$dt), dt, envir = .GlobalEnv)\n",
    "    message(\"Outliers successfully removed\", \"\\n\")\n",
    "    return(invisible(dt))\n",
    "  } else{\n",
    "    message(\"Nothing changed\", \"\\n\")\n",
    "    return(invisible(var_name))\n",
    "  }\n",
    "}"
   ]
  },
  {
   "cell_type": "markdown",
   "metadata": {},
   "source": [
    "Source code : [link](https://datascienceplus.com/identify-describe-plot-and-removing-the-outliers-from-the-dataset/). \n",
    "Syntax tersebut akan memberikan otput boxplot dan histogram dari variabel yang akan dicek untuk kondisi sebelum dan sesudah dihapus outliernya. Identifikasi jumlah outlier, mean dari data outlier, mean data asli, dan mean data jika outlier tertangani juga ditampilkan. Sehingga kita dapat memutuskan untuk menangani outlier dengan menggantinya menjadi NA atau tidak."
   ]
  },
  {
   "cell_type": "code",
   "execution_count": 5,
   "metadata": {},
   "outputs": [
    {
     "name": "stderr",
     "output_type": "stream",
     "text": [
      "Outliers identified: 16501 from 336867 observations\n",
      "Proportion (%) of outliers: 4.89837235466816\n",
      "Mean of the outliers: 241354.536122053\n",
      "Mean without removing outliers: 76912.0200629625\n",
      "Mean if we remove outliers: 68442.1263866952\n"
     ]
    },
    {
     "name": "stdout",
     "output_type": "stream",
     "text": [
      "Do you want to remove outliers and to replace with NA? [yes/no]: yes\n"
     ]
    },
    {
     "name": "stderr",
     "output_type": "stream",
     "text": [
      "Outliers successfully removed\n",
      "\n"
     ]
    },
    {
     "data": {
      "image/png": "[encoded data removed]",
      "text/plain": [
       "Plot with title \"Outlier Check\""
      ]
     },
     "metadata": {},
     "output_type": "display_data"
    }
   ],
   "source": [
    "third_sel <- outlierKD(sec_sel, annual_inc)"
   ]
  },
  {
   "cell_type": "markdown",
   "metadata": {},
   "source": [
    "Berdasarkan *summary* tersebut dapat diketahui bahwa mean dari data yang outlier sangat jauh dengan mean data jika tanpa outlier. Oleh karena itu diputuskan untuk menangani outlier dengan mengantinya menjadi data NA agar pengelompokan data annual_inc menjadi lebih baik. Selanjutnya data NA tersebut dihapus seperti berikut."
   ]
  },
  {
   "cell_type": "code",
   "execution_count": 6,
   "metadata": {},
   "outputs": [
    {
     "data": {
      "text/html": [
       "<ol class=list-inline>\n",
       "\t<li>320366</li>\n",
       "\t<li>6</li>\n",
       "</ol>\n"
      ],
      "text/latex": [
       "\\begin{enumerate*}\n",
       "\\item 320366\n",
       "\\item 6\n",
       "\\end{enumerate*}\n"
      ],
      "text/markdown": [
       "1. 320366\n",
       "2. 6\n",
       "\n",
       "\n"
      ],
      "text/plain": [
       "[1] 320366      6"
      ]
     },
     "metadata": {},
     "output_type": "display_data"
    }
   ],
   "source": [
    "#menghapus NA\n",
    "third_sel <- na.omit(third_sel)\n",
    "\n",
    "#dimensi data\n",
    "dim(third_sel)"
   ]
  },
  {
   "cell_type": "markdown",
   "metadata": {},
   "source": [
    "Sekarang data outlier telah dihapus, yang awalnya terdapat 336867 observations menjadi 320366 observations dengan 6 kolom."
   ]
  },
  {
   "cell_type": "markdown",
   "metadata": {},
   "source": [
    "### d. Mengubah Nilai Variabel annual_inc menjadi Kategori\n",
    "Perubahan ini dilakukan karena dengan mempersempit sebaran nilai diharapkan dapat mempermudah menentukan strategi dalam pemasaran produk."
   ]
  },
  {
   "cell_type": "code",
   "execution_count": 7,
   "metadata": {},
   "outputs": [
    {
     "name": "stdout",
     "output_type": "stream",
     "text": [
      "Observations: 320,366\n",
      "Variables: 7\n",
      "$ grade            <chr> \"C\", \"C\", \"C\", \"C\", \"D\", \"B\", \"C\", \"B\", \"C\", \"C\", ...\n",
      "$ annual_inc       <dbl> 65000, 106000, 70000, 145000, 39000, 62000, 39750,...\n",
      "$ home_ownership   <chr> \"MORTGAGE\", \"MORTGAGE\", \"OWN\", \"MORTGAGE\", \"MORTGA...\n",
      "$ addr_state       <chr> \"SD\", \"AL\", \"MD\", \"RI\", \"WI\", \"CA\", \"IL\", \"IL\", \"P...\n",
      "$ application_type <chr> \"Individual\", \"Individual\", \"Individual\", \"Individ...\n",
      "$ issue_d          <chr> \"Dec-2015\", \"Dec-2015\", \"Dec-2015\", \"Dec-2015\", \"D...\n",
      "$ income_cat       <chr> \"kurang\", \"lebih\", \"lebih\", \"lebih\", \"kurang\", \"ku...\n"
     ]
    }
   ],
   "source": [
    "four_sel <- mutate(third_sel,income_cat = ifelse(annual_inc>=mean(annual_inc),\"lebih\", \"kurang\") )\n",
    "glimpse(four_sel)"
   ]
  },
  {
   "cell_type": "markdown",
   "metadata": {},
   "source": [
    "Dari ringkasan tersebut diketahui bahwa data yang awalnya 6 kolom kini menjadi 7 kolom karena ada tambahan variabel income_cat. Variabel tersebut merupakan annual_inc yang telah diubah menjadi kategori dengan aturan nilai annual_inc akan diberi label 'lebih' jika nilanya lebih dari rata-rata annual_inc dan sebaliknya."
   ]
  },
  {
   "cell_type": "markdown",
   "metadata": {},
   "source": [
    "### e. Mengubah Type Data\n",
    "Dari ringkasan di atas diketahui bahwa semua data yang akan digunakan dalam analisis Random Forest ini memiliki type *char*(character). Sedangkan fungsi Random Forest untuk klasifikasi memerlukan type *fct*(factor)."
   ]
  },
  {
   "cell_type": "code",
   "execution_count": 8,
   "metadata": {},
   "outputs": [
    {
     "name": "stdout",
     "output_type": "stream",
     "text": [
      "Observations: 320,366\n",
      "Variables: 7\n",
      "$ grade            <fct> C, C, C, C, D, B, C, B, C, C, D, B, D, B, A, C, C,...\n",
      "$ annual_inc       <dbl> 65000, 106000, 70000, 145000, 39000, 62000, 39750,...\n",
      "$ home_ownership   <fct> MORTGAGE, MORTGAGE, OWN, MORTGAGE, MORTGAGE, MORTG...\n",
      "$ addr_state       <fct> SD, AL, MD, RI, WI, CA, IL, IL, PA, NJ, OH, FL, OH...\n",
      "$ application_type <fct> Individual, Individual, Individual, Individual, In...\n",
      "$ issue_d          <chr> \"Dec-2015\", \"Dec-2015\", \"Dec-2015\", \"Dec-2015\", \"D...\n",
      "$ income_cat       <fct> kurang, lebih, lebih, lebih, kurang, kurang, kuran...\n"
     ]
    }
   ],
   "source": [
    "four_sel$grade <- as.factor(four_sel$grade)\n",
    "four_sel$home_ownership <- as.factor(four_sel$home_ownership)\n",
    "four_sel$addr_state <- as.factor(four_sel$addr_state)\n",
    "four_sel$application_type <- as.factor(four_sel$application_type)\n",
    "four_sel$income_cat <- as.factor(four_sel$income_cat)\n",
    "glimpse(four_sel)"
   ]
  },
  {
   "cell_type": "markdown",
   "metadata": {},
   "source": [
    "## Analisis Random Forest\n",
    "\n",
    "### a. Menentukan Data Training dan Data Testing\n",
    "Data training merupakan data yang digunakan untuk menentukan model random forest. Sedangkan data testing merupakan data yang digunakan untuk menguji model yang sudah diperoleh. Dengan kata lain, data yang sudah siap dianalisis tersebut dibagi menjadi dua. Proporsi pembagiannya bebas ditentukan dengan preferensi masing - masing. Untuk analisis ini proporsi yang digunakan adalah 0.5 karena data yang akan dianalisis memiliki observasi yang cukup besar, sehingga dengan mengambil setengahnya dirasa cukup kuat untuk membuat model."
   ]
  },
  {
   "cell_type": "code",
   "execution_count": 9,
   "metadata": {},
   "outputs": [
    {
     "name": "stderr",
     "output_type": "stream",
     "text": [
      "Warning message:\n",
      "\"package 'caTools' was built under R version 3.6.1\""
     ]
    },
    {
     "data": {
      "text/plain": [
       " grade       annual_inc      home_ownership    addr_state   \n",
       " A:26924   Min.   :     0   ANY     :    1   CA     :21805  \n",
       " B:44636   1st Qu.: 45000   MORTGAGE:77349   TX     :12956  \n",
       " C:46270   Median : 63000   OWN     :17386   NY     :12767  \n",
       " D:24290   Mean   : 68382   RENT    :65446   FL     :11241  \n",
       " E:13452   3rd Qu.: 86000                    IL     : 6376  \n",
       " F: 3780   Max.   :158500                    PA     : 5637  \n",
       " G:  830                                     (Other):89400  \n",
       "   application_type    issue_d           income_cat   \n",
       " Individual:159994   Length:160182      kurang:90313  \n",
       " Joint App :   188   Class :character   lebih :69869  \n",
       "                     Mode  :character                 \n",
       "                                                      \n",
       "                                                      \n",
       "                                                      \n",
       "                                                      "
      ]
     },
     "metadata": {},
     "output_type": "display_data"
    },
    {
     "data": {
      "text/plain": [
       " grade       annual_inc      home_ownership    addr_state   \n",
       " A:26923   Min.   :  1200   ANY     :    1   CA     :21702  \n",
       " B:44637   1st Qu.: 45000   MORTGAGE:77766   TX     :13110  \n",
       " C:46270   Median : 63000   OWN     :17522   NY     :12677  \n",
       " D:24291   Mean   : 68503   RENT    :64895   FL     :11201  \n",
       " E:13453   3rd Qu.: 86000                    IL     : 6422  \n",
       " F: 3780   Max.   :158500                    PA     : 5810  \n",
       " G:  830                                     (Other):89262  \n",
       "   application_type    issue_d           income_cat   \n",
       " Individual:159973   Length:160184      kurang:90182  \n",
       " Joint App :   211   Class :character   lebih :70002  \n",
       "                     Mode  :character                 \n",
       "                                                      \n",
       "                                                      \n",
       "                                                      \n",
       "                                                      "
      ]
     },
     "metadata": {},
     "output_type": "display_data"
    }
   ],
   "source": [
    " library(caTools)\n",
    " set.seed(123)\n",
    " split <- sample.split(four_sel$grade,SplitRatio = 0.5)\n",
    " training_set <- subset(four_sel,split==TRUE)\n",
    " summary(training_set)\n",
    " testing_set <- subset(four_sel,split==FALSE)\n",
    " summary(testing_set)"
   ]
  },
  {
   "cell_type": "markdown",
   "metadata": {},
   "source": [
    "### b. Random Forest"
   ]
  },
  {
   "cell_type": "code",
   "execution_count": 10,
   "metadata": {},
   "outputs": [
    {
     "name": "stderr",
     "output_type": "stream",
     "text": [
      "randomForest 4.6-14\n",
      "Type rfNews() to see new features/changes/bug fixes.\n",
      "\n",
      "Attaching package: 'randomForest'\n",
      "\n",
      "The following object is masked from 'package:dplyr':\n",
      "\n",
      "    combine\n",
      "\n"
     ]
    },
    {
     "ename": "ERROR",
     "evalue": "Error: cannot allocate vector of size 611.0 Mb\n",
     "output_type": "error",
     "traceback": [
      "Error: cannot allocate vector of size 611.0 Mb\nTraceback:\n",
      "1. randomForest(form, data = training_set, importance = TRUE)",
      "2. randomForest.formula(form, data = training_set, importance = TRUE)",
      "3. randomForest.default(m, y, ...)",
      "4. integer(nt * nrnodes)"
     ]
    }
   ],
   "source": [
    "library(randomForest)\n",
    "  \n",
    "#membuat model\n",
    "form <- grade ~ home_ownership + addr_state + application_type + income_cat\n",
    "model1 <- randomForest(form,data=training_set,importance=TRUE)\n",
    "  \n",
    "importance(model1)"
   ]
  },
  {
   "cell_type": "markdown",
   "metadata": {},
   "source": [
    "Kurang lebih syntax yang digunakan untuk memodelkan random forest adalah seperti di atas. Namun untuk ukuran data yang digunakan ini Jupyter Notebook tidak mampu memprosesnya. Syntax \"importance(model)\" tersebut akan memberikan informasi variabel mana yang memberikan efek lebih besar untuk variabel respon. Berikut ini adalah output dengan syntax yang sama namun menggunakan ukuran data yang lebih kecil."
   ]
  },
  {
   "cell_type": "code",
   "execution_count": 12,
   "metadata": {},
   "outputs": [
    {
     "data": {
      "text/html": [
       "<table>\n",
       "<thead><tr><th></th><th scope=col>A</th><th scope=col>B</th><th scope=col>C</th><th scope=col>D</th><th scope=col>E</th><th scope=col>F</th><th scope=col>G</th><th scope=col>MeanDecreaseAccuracy</th><th scope=col>MeanDecreaseGini</th></tr></thead>\n",
       "<tbody>\n",
       "\t<tr><th scope=row>home_ownership</th><td>-1.745103   </td><td>-2.555038   </td><td>16.406741   </td><td>-6.828029   </td><td>-6.6152021  </td><td>-1.886261971</td><td>0           </td><td>30.845005   </td><td> 68.77237   </td></tr>\n",
       "\t<tr><th scope=row>addr_state</th><td>-7.670952   </td><td>-0.637401   </td><td>12.400683   </td><td>-3.066768   </td><td>-6.4090814  </td><td>-2.027495971</td><td>0           </td><td>18.664890   </td><td>143.72715   </td></tr>\n",
       "\t<tr><th scope=row>application_type</th><td>-2.091754   </td><td> 8.827435   </td><td>-3.578024   </td><td>10.656731   </td><td>11.2385135  </td><td> 0.007768292</td><td>0           </td><td> 9.258623   </td><td> 15.33008   </td></tr>\n",
       "\t<tr><th scope=row>income_cat</th><td>10.270078   </td><td>16.069112   </td><td>34.175854   </td><td>-4.501769   </td><td> 0.5172471  </td><td>-1.117623195</td><td>0           </td><td>75.533986   </td><td>199.58164   </td></tr>\n",
       "</tbody>\n",
       "</table>\n"
      ],
      "text/latex": [
       "\\begin{tabular}{r|lllllllll}\n",
       "  & A & B & C & D & E & F & G & MeanDecreaseAccuracy & MeanDecreaseGini\\\\\n",
       "\\hline\n",
       "\thome\\_ownership & -1.745103    & -2.555038    & 16.406741    & -6.828029    & -6.6152021   & -1.886261971 & 0            & 30.845005    &  68.77237   \\\\\n",
       "\taddr\\_state & -7.670952    & -0.637401    & 12.400683    & -3.066768    & -6.4090814   & -2.027495971 & 0            & 18.664890    & 143.72715   \\\\\n",
       "\tapplication\\_type & -2.091754    &  8.827435    & -3.578024    & 10.656731    & 11.2385135   &  0.007768292 & 0            &  9.258623    &  15.33008   \\\\\n",
       "\tincome\\_cat & 10.270078    & 16.069112    & 34.175854    & -4.501769    &  0.5172471   & -1.117623195 & 0            & 75.533986    & 199.58164   \\\\\n",
       "\\end{tabular}\n"
      ],
      "text/markdown": [
       "\n",
       "| <!--/--> | A | B | C | D | E | F | G | MeanDecreaseAccuracy | MeanDecreaseGini |\n",
       "|---|---|---|---|---|---|---|---|---|---|\n",
       "| home_ownership | -1.745103    | -2.555038    | 16.406741    | -6.828029    | -6.6152021   | -1.886261971 | 0            | 30.845005    |  68.77237    |\n",
       "| addr_state | -7.670952    | -0.637401    | 12.400683    | -3.066768    | -6.4090814   | -2.027495971 | 0            | 18.664890    | 143.72715    |\n",
       "| application_type | -2.091754    |  8.827435    | -3.578024    | 10.656731    | 11.2385135   |  0.007768292 | 0            |  9.258623    |  15.33008    |\n",
       "| income_cat | 10.270078    | 16.069112    | 34.175854    | -4.501769    |  0.5172471   | -1.117623195 | 0            | 75.533986    | 199.58164    |\n",
       "\n"
      ],
      "text/plain": [
       "                 A         B         C         D         E         \n",
       "home_ownership   -1.745103 -2.555038 16.406741 -6.828029 -6.6152021\n",
       "addr_state       -7.670952 -0.637401 12.400683 -3.066768 -6.4090814\n",
       "application_type -2.091754  8.827435 -3.578024 10.656731 11.2385135\n",
       "income_cat       10.270078 16.069112 34.175854 -4.501769  0.5172471\n",
       "                 F            G MeanDecreaseAccuracy MeanDecreaseGini\n",
       "home_ownership   -1.886261971 0 30.845005             68.77237       \n",
       "addr_state       -2.027495971 0 18.664890            143.72715       \n",
       "application_type  0.007768292 0  9.258623             15.33008       \n",
       "income_cat       -1.117623195 0 75.533986            199.58164       "
      ]
     },
     "metadata": {},
     "output_type": "display_data"
    }
   ],
   "source": [
    "# menentukan data training untuk ukuran yang lebih kecil \n",
    " split1 <- sample.split(four_sel$grade,SplitRatio = 0.2)\n",
    " training_set1 <- subset(four_sel,split1==TRUE)\n",
    " testing_set1 <- subset(four_sel,split1==FALSE)\n",
    "\n",
    "#membuat model\n",
    " form1 <- grade ~ home_ownership + addr_state + application_type + income_cat\n",
    " model2 <- randomForest(form,data=training_set1,importance=TRUE)\n",
    "\n",
    "importance(model2)"
   ]
  },
  {
   "cell_type": "markdown",
   "metadata": {},
   "source": [
    "Dari tabel output tersebut dapat diperhatikan nilai dari MeanDecreaseAccuracy untuk menentukan variabel yang memberikan pengaruh terbesar bagi variabel responnya. Semakin besar nilai MDA, maka variabel itulah yang paling memberikan pengaruh. Sehingga dalam analisis ini dapat disimpulkan bahwa penghasilan per tahun memberikan pengaruh besar dalam penentuan grade pinjaman. \n",
    "\n",
    "[BERIKUT INI](https://cloud.smartdraw.com/share.aspx/?pubDocShare=D94DD983DBFA4C2DD9DC8B137D56ED516B5) adalah salah satu bentuk pohon untuk analisis dan data yang sama (data testing = 0,5) namun menggunakan bantuan visualisasi Microsoft AML.\n",
    "\n",
    "Beberapa hal yang dapat diambil dari satu pohon tersebut adalah,\n",
    "1. faktor yang paling berpengaruh adalah **income** (sesuai dengan tabel output importance)\n",
    "2. kategori dengan income \"kurang\" banyak yang memilih grade C, A, dan B dengan tanpa ada grade F\n",
    "3. kategori dengan income \"lebih\" banyak yang memilih grade B, E, dan C dengan tanpa ada grade A"
   ]
  },
  {
   "cell_type": "code",
   "execution_count": null,
   "metadata": {},
   "outputs": [],
   "source": []
  }
 ],
 "metadata": {
  "kernelspec": {
   "display_name": "R",
   "language": "R",
   "name": "ir"
  },
  "language_info": {
   "codemirror_mode": "r",
   "file_extension": ".r",
   "mimetype": "text/x-r-source",
   "name": "R",
   "pygments_lexer": "r",
   "version": "3.6.0"
  }
 },
 "nbformat": 4,
 "nbformat_minor": 2
}
